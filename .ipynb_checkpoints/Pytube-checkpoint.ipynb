{
 "cells": [
  {
   "cell_type": "code",
   "execution_count": 35,
   "id": "4ccbffc1",
   "metadata": {
    "scrolled": true
   },
   "outputs": [
    {
     "data": {
      "text/html": [
       "<div>\n",
       "<style scoped>\n",
       "    .dataframe tbody tr th:only-of-type {\n",
       "        vertical-align: middle;\n",
       "    }\n",
       "\n",
       "    .dataframe tbody tr th {\n",
       "        vertical-align: top;\n",
       "    }\n",
       "\n",
       "    .dataframe thead th {\n",
       "        text-align: right;\n",
       "    }\n",
       "</style>\n",
       "<table border=\"1\" class=\"dataframe\">\n",
       "  <thead>\n",
       "    <tr style=\"text-align: right;\">\n",
       "      <th></th>\n",
       "      <th>links</th>\n",
       "      <th>titulo</th>\n",
       "    </tr>\n",
       "  </thead>\n",
       "  <tbody>\n",
       "    <tr>\n",
       "      <th>0</th>\n",
       "      <td>/watch?v=jEoMM0B3SDE</td>\n",
       "      <td>Véspera de Natal</td>\n",
       "    </tr>\n",
       "    <tr>\n",
       "      <th>1</th>\n",
       "      <td>/watch?v=8qvbv4bzfQk</td>\n",
       "      <td>A Subjetividade</td>\n",
       "    </tr>\n",
       "    <tr>\n",
       "      <th>2</th>\n",
       "      <td>/watch?v=oMAew5zz6bg</td>\n",
       "      <td>A história da máscara</td>\n",
       "    </tr>\n",
       "    <tr>\n",
       "      <th>3</th>\n",
       "      <td>/watch?v=vrudo89kbg4</td>\n",
       "      <td>A vontade Dele.</td>\n",
       "    </tr>\n",
       "    <tr>\n",
       "      <th>4</th>\n",
       "      <td>/watch?v=zy63IVFwU-I</td>\n",
       "      <td>Isso precisa estar bem claro.</td>\n",
       "    </tr>\n",
       "    <tr>\n",
       "      <th>...</th>\n",
       "      <td>...</td>\n",
       "      <td>...</td>\n",
       "    </tr>\n",
       "    <tr>\n",
       "      <th>194</th>\n",
       "      <td>/watch?v=ulw_PRKrui8</td>\n",
       "      <td>A vida é só um sonho!</td>\n",
       "    </tr>\n",
       "    <tr>\n",
       "      <th>195</th>\n",
       "      <td>/watch?v=9I1Ib9bI-nc</td>\n",
       "      <td>Sadhguru - Revela o segredo do seu conheciment...</td>\n",
       "    </tr>\n",
       "    <tr>\n",
       "      <th>196</th>\n",
       "      <td>/watch?v=cE1kRwVWb8o</td>\n",
       "      <td>Sadhguru TED Talks - Legendado em Portugues</td>\n",
       "    </tr>\n",
       "    <tr>\n",
       "      <th>197</th>\n",
       "      <td>/watch?v=Gu3TH8ZQAq8</td>\n",
       "      <td>O Acordar: Relatos de Iluminação - Mooji - Leg...</td>\n",
       "    </tr>\n",
       "    <tr>\n",
       "      <th>198</th>\n",
       "      <td>/watch?v=I-7ma6URCCg</td>\n",
       "      <td>What really exists - Jim Carrey - Legendado (O...</td>\n",
       "    </tr>\n",
       "  </tbody>\n",
       "</table>\n",
       "<p>199 rows × 2 columns</p>\n",
       "</div>"
      ],
      "text/plain": [
       "                    links                                             titulo\n",
       "0    /watch?v=jEoMM0B3SDE                                   Véspera de Natal\n",
       "1    /watch?v=8qvbv4bzfQk                                    A Subjetividade\n",
       "2    /watch?v=oMAew5zz6bg                              A história da máscara\n",
       "3    /watch?v=vrudo89kbg4                                    A vontade Dele.\n",
       "4    /watch?v=zy63IVFwU-I                      Isso precisa estar bem claro.\n",
       "..                    ...                                                ...\n",
       "194  /watch?v=ulw_PRKrui8                              A vida é só um sonho!\n",
       "195  /watch?v=9I1Ib9bI-nc  Sadhguru - Revela o segredo do seu conheciment...\n",
       "196  /watch?v=cE1kRwVWb8o        Sadhguru TED Talks - Legendado em Portugues\n",
       "197  /watch?v=Gu3TH8ZQAq8  O Acordar: Relatos de Iluminação - Mooji - Leg...\n",
       "198  /watch?v=I-7ma6URCCg  What really exists - Jim Carrey - Legendado (O...\n",
       "\n",
       "[199 rows x 2 columns]"
      ]
     },
     "execution_count": 35,
     "metadata": {},
     "output_type": "execute_result"
    }
   ],
   "source": [
    "import pandas as pd\n",
    "\n",
    "df = pd.read_csv('doc.csv', names=[\"links\", \"titulo\"])\n",
    "df"
   ]
  },
  {
   "cell_type": "code",
   "execution_count": 58,
   "id": "2c7b1d75",
   "metadata": {},
   "outputs": [
    {
     "name": "stdout",
     "output_type": "stream",
     "text": [
      "baixando video 1 \n",
      "\n",
      " ↳ |██████████████████████████████████████████████████████████████████| 100.0%\r"
     ]
    },
    {
     "data": {
      "text/plain": [
       "'C:\\\\Users\\\\ADM\\\\Documents\\\\projetos\\\\web_scrapinng_futebol_ESPN\\\\A Subjetividade.mp4'"
      ]
     },
     "metadata": {},
     "output_type": "display_data"
    },
    {
     "name": "stdout",
     "output_type": "stream",
     "text": [
      "concluido video 1 \n",
      "\n",
      "baixando video 2 \n",
      "\n",
      " ↳ |██████████████████████████████████████████████████████████████████| 100.0%\r"
     ]
    },
    {
     "data": {
      "text/plain": [
       "'C:\\\\Users\\\\ADM\\\\Documents\\\\projetos\\\\web_scrapinng_futebol_ESPN\\\\A história da máscara.mp4'"
      ]
     },
     "metadata": {},
     "output_type": "display_data"
    },
    {
     "name": "stdout",
     "output_type": "stream",
     "text": [
      "concluido video 2 \n",
      "\n",
      "baixando video 3 \n",
      "\n",
      " ↳ |██████████████████████████████████████████████████████████████████| 100.0%\r"
     ]
    },
    {
     "data": {
      "text/plain": [
       "'C:\\\\Users\\\\ADM\\\\Documents\\\\projetos\\\\web_scrapinng_futebol_ESPN\\\\A vontade Dele.mp4'"
      ]
     },
     "metadata": {},
     "output_type": "display_data"
    },
    {
     "name": "stdout",
     "output_type": "stream",
     "text": [
      "concluido video 3 \n",
      "\n"
     ]
    }
   ],
   "source": [
    "teste = df.iloc[1:4]\n",
    "teste\n",
    "\n",
    "count = 0 \n",
    "for i in teste['links']:\n",
    "    count += 1\n",
    "    link = \"http://youtube.com/\"+i\n",
    "    print(\"baixando video\", count, \"\\n\")\n",
    "    yt = YouTube(link, on_progress_callback = on_progress)\n",
    "    #print(\"titulo\". yt.title)\n",
    "    ys = yt.streams.get_highest_resolution()\n",
    "    display(ys.download())\n",
    "    print(\"concluido video\", count, \"\\n\")"
   ]
  }
 ],
 "metadata": {
  "kernelspec": {
   "display_name": "Python 3 (ipykernel)",
   "language": "python",
   "name": "python3"
  },
  "language_info": {
   "codemirror_mode": {
    "name": "ipython",
    "version": 3
   },
   "file_extension": ".py",
   "mimetype": "text/x-python",
   "name": "python",
   "nbconvert_exporter": "python",
   "pygments_lexer": "ipython3",
   "version": "3.8.8"
  }
 },
 "nbformat": 4,
 "nbformat_minor": 5
}
